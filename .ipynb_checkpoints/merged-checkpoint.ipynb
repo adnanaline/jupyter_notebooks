{
 "cells": [
  {
   "cell_type": "markdown",
   "metadata": {},
   "source": [
    "# Your First Python Jupyter Notebook"
   ]
  },
  {
   "cell_type": "markdown",
   "metadata": {},
   "source": [
    "In this notebook, you will run your first codes with Python. This field is known as a markdown file, where we use texts without any code. These markdowns are used to explain why we are doing something, what is the reason of running a code, and if we get results, what are the implications of the results"
   ]
  },
  {
   "cell_type": "code",
   "execution_count": 1,
   "metadata": {},
   "outputs": [],
   "source": [
    "# This is a comment within a code. This line will not be executed. Its good to have comments with the code,\n",
    "# as they help in explaining the code. To write a comment, we start the first line with a '#'"
   ]
  },
  {
   "cell_type": "markdown",
   "metadata": {},
   "source": [
    "Now we will run our first line of code - 'Hello World'"
   ]
  },
  {
   "cell_type": "code",
   "execution_count": 3,
   "metadata": {},
   "outputs": [
    {
     "name": "stdout",
     "output_type": "stream",
     "text": [
      "Hello World!\n"
     ]
    }
   ],
   "source": [
    "print(\"Hello World!\")"
   ]
  },
  {
   "cell_type": "markdown",
   "metadata": {},
   "source": [
    "Notice that we are using \"\". This is because in most coding languages, we need to have a system to differentiate between numeric input vs non numeric input. Anything we put within \"\" is considered non numeric. Following is an example"
   ]
  },
  {
   "cell_type": "code",
   "execution_count": 8,
   "metadata": {},
   "outputs": [
    {
     "data": {
      "text/plain": [
       "2"
      ]
     },
     "execution_count": 8,
     "metadata": {},
     "output_type": "execute_result"
    }
   ],
   "source": [
    "# numeric code\n",
    "\n",
    "1 + 1"
   ]
  },
  {
   "cell_type": "code",
   "execution_count": 6,
   "metadata": {},
   "outputs": [
    {
     "data": {
      "text/plain": [
       "'AB'"
      ]
     },
     "execution_count": 6,
     "metadata": {},
     "output_type": "execute_result"
    }
   ],
   "source": [
    "# non_numeric code\n",
    "\n",
    "\"A\" + \"B\""
   ]
  },
  {
   "cell_type": "code",
   "execution_count": 7,
   "metadata": {},
   "outputs": [
    {
     "data": {
      "text/plain": [
       "'11'"
      ]
     },
     "execution_count": 7,
     "metadata": {},
     "output_type": "execute_result"
    }
   ],
   "source": [
    "# non_numberic code involving numbers\n",
    "\n",
    "\"1\" + \"1\""
   ]
  },
  {
   "cell_type": "markdown",
   "metadata": {},
   "source": [
    "An additonal thing we need to understand is the 'print()' code covering the \"Hello World!\". Python, similar to R and many other coding languages, uses functions to get its job done. So 'print()' is a function. To know more about a certain function we can run a help on the function"
   ]
  },
  {
   "cell_type": "code",
   "execution_count": 11,
   "metadata": {},
   "outputs": [
    {
     "name": "stdout",
     "output_type": "stream",
     "text": [
      "Help on built-in function print in module builtins:\n",
      "\n",
      "print(...)\n",
      "    print(value, ..., sep=' ', end='\\n', file=sys.stdout, flush=False)\n",
      "    \n",
      "    Prints the values to a stream, or to sys.stdout by default.\n",
      "    Optional keyword arguments:\n",
      "    file:  a file-like object (stream); defaults to the current sys.stdout.\n",
      "    sep:   string inserted between values, default a space.\n",
      "    end:   string appended after the last value, default a newline.\n",
      "    flush: whether to forcibly flush the stream.\n",
      "\n"
     ]
    }
   ],
   "source": [
    "help(print)"
   ]
  },
  {
   "cell_type": "markdown",
   "metadata": {},
   "source": [
    "Might seem a lot of information, but we will over time get used to reading the details. For now, we focus on the Arithmetic operations using Python"
   ]
  },
  {
   "cell_type": "markdown",
   "metadata": {},
   "source": [
    "The following are the basic numeric opeartions in Python"
   ]
  },
  {
   "cell_type": "code",
   "execution_count": 12,
   "metadata": {},
   "outputs": [
    {
     "data": {
      "text/plain": [
       "2.4"
      ]
     },
     "execution_count": 12,
     "metadata": {},
     "output_type": "execute_result"
    }
   ],
   "source": [
    "#addition\n",
    "10 + 5\n",
    "\n",
    "#substraction\n",
    "10 - 5\n",
    "\n",
    "#multiplication\n",
    "10 * 5\n",
    "\n",
    "#division\n",
    "12 / 5"
   ]
  },
  {
   "cell_type": "markdown",
   "metadata": {},
   "source": [
    "As you can see, only the outcome of the last line of code is shown in the output. We can either run each line of code or fix this issue as follows"
   ]
  },
  {
   "cell_type": "code",
   "execution_count": 13,
   "metadata": {},
   "outputs": [
    {
     "name": "stdout",
     "output_type": "stream",
     "text": [
      "15\n",
      "5\n",
      "50\n",
      "2.4\n"
     ]
    }
   ],
   "source": [
    "#addition\n",
    "print(10 + 5)\n",
    "\n",
    "#substraction\n",
    "print(10 - 5)\n",
    "\n",
    "#multiplication\n",
    "print(10 * 5)\n",
    "\n",
    "#division\n",
    "print(12 / 5)"
   ]
  },
  {
   "cell_type": "markdown",
   "metadata": {},
   "source": [
    "Some advanced arithmatic operations:"
   ]
  },
  {
   "cell_type": "code",
   "execution_count": 16,
   "metadata": {},
   "outputs": [
    {
     "name": "stdout",
     "output_type": "stream",
     "text": [
      "8\n",
      "3\n",
      "2\n"
     ]
    }
   ],
   "source": [
    "#exponent\n",
    "\n",
    "print(2 ** 3)\n",
    "\n",
    "#modulo - remainder\n",
    "print(13 % 5)\n",
    "\n",
    "#integer output of the division\n",
    "print(13 // 5)"
   ]
  },
  {
   "cell_type": "markdown",
   "metadata": {},
   "source": [
    "But we dont use python to only do calculations, do we? We can assign values to variables and then work with them!"
   ]
  },
  {
   "cell_type": "code",
   "execution_count": 18,
   "metadata": {},
   "outputs": [
    {
     "name": "stdout",
     "output_type": "stream",
     "text": [
      "300\n",
      "20\n"
     ]
    }
   ],
   "source": [
    "#assigning values to variables\n",
    "A = 10\n",
    "B = 30\n",
    "\n",
    "#making a calculation with the variables\n",
    "print(A * B)\n",
    "\n",
    "#storing result of a calculation in another variable\n",
    "C = B - A\n",
    "print(C)\n"
   ]
  },
  {
   "cell_type": "markdown",
   "metadata": {},
   "source": [
    "In python, when we are working with many variables (and we call them objects), things might go out of hand if we loose track of what the variables are and what we have stored in them. So there is an easy code to check what variables we have created so far"
   ]
  },
  {
   "cell_type": "code",
   "execution_count": 19,
   "metadata": {},
   "outputs": [
    {
     "name": "stdout",
     "output_type": "stream",
     "text": [
      "Variable   Type    Data/Info\n",
      "----------------------------\n",
      "A          int     10\n",
      "B          int     30\n",
      "C          int     20\n"
     ]
    }
   ],
   "source": [
    "%whos"
   ]
  },
  {
   "cell_type": "markdown",
   "metadata": {},
   "source": [
    "Suppose we made a mistake with a variable calculation. Instead of C = B - A, it should have been C = B / A. Very easy to correct in Python"
   ]
  },
  {
   "cell_type": "code",
   "execution_count": 20,
   "metadata": {},
   "outputs": [
    {
     "name": "stdout",
     "output_type": "stream",
     "text": [
      "3.0\n"
     ]
    }
   ],
   "source": [
    "C = B / A\n",
    "print(C)"
   ]
  },
  {
   "cell_type": "code",
   "execution_count": 21,
   "metadata": {},
   "outputs": [
    {
     "name": "stdout",
     "output_type": "stream",
     "text": [
      "Variable   Type     Data/Info\n",
      "-----------------------------\n",
      "A          int      10\n",
      "B          int      30\n",
      "C          float    3.0\n"
     ]
    }
   ],
   "source": [
    "%whos"
   ]
  },
  {
   "cell_type": "markdown",
   "metadata": {},
   "source": [
    "Instead of an float (coding jargon for numbers with decimal points), say we know that B will always be divisible by A, and by that virtue, C will always be integer. We can just decide to store C as an integer!"
   ]
  },
  {
   "cell_type": "code",
   "execution_count": 24,
   "metadata": {},
   "outputs": [
    {
     "name": "stdout",
     "output_type": "stream",
     "text": [
      "3\n",
      "3\n"
     ]
    }
   ],
   "source": [
    "#converting C to integer\n",
    "print(int(C))\n",
    "\n",
    "#storing C as integer\n",
    "C = int(C)\n",
    "print(C)"
   ]
  },
  {
   "cell_type": "markdown",
   "metadata": {},
   "source": [
    "We have so far only worked with numeric variable values. But variables can also be text. We call them 'string' (another coding jargon). Lets see how they work"
   ]
  },
  {
   "cell_type": "code",
   "execution_count": 26,
   "metadata": {},
   "outputs": [
    {
     "name": "stdout",
     "output_type": "stream",
     "text": [
      "Wasim\n",
      "Akram\n"
     ]
    }
   ],
   "source": [
    "#lets create two text variables\n",
    "X = \"Wasim\"\n",
    "Y = \"Akram\"\n",
    "\n",
    "print(X)\n",
    "print(Y)"
   ]
  },
  {
   "cell_type": "markdown",
   "metadata": {},
   "source": [
    "What happens when we want to do calculations with strings?"
   ]
  },
  {
   "cell_type": "code",
   "execution_count": 27,
   "metadata": {},
   "outputs": [
    {
     "name": "stdout",
     "output_type": "stream",
     "text": [
      "WasimAkram\n"
     ]
    },
    {
     "ename": "TypeError",
     "evalue": "unsupported operand type(s) for -: 'str' and 'str'",
     "output_type": "error",
     "traceback": [
      "\u001b[0;31m---------------------------------------------------------------------------\u001b[0m",
      "\u001b[0;31mTypeError\u001b[0m                                 Traceback (most recent call last)",
      "\u001b[0;32m<ipython-input-27-8d576e615361>\u001b[0m in \u001b[0;36m<module>\u001b[0;34m\u001b[0m\n\u001b[1;32m      3\u001b[0m \u001b[0;34m\u001b[0m\u001b[0m\n\u001b[1;32m      4\u001b[0m \u001b[0;31m#and then check with substraction\u001b[0m\u001b[0;34m\u001b[0m\u001b[0;34m\u001b[0m\u001b[0;34m\u001b[0m\u001b[0m\n\u001b[0;32m----> 5\u001b[0;31m \u001b[0mprint\u001b[0m\u001b[0;34m(\u001b[0m\u001b[0mX\u001b[0m \u001b[0;34m-\u001b[0m \u001b[0mY\u001b[0m\u001b[0;34m)\u001b[0m\u001b[0;34m\u001b[0m\u001b[0;34m\u001b[0m\u001b[0m\n\u001b[0m",
      "\u001b[0;31mTypeError\u001b[0m: unsupported operand type(s) for -: 'str' and 'str'"
     ]
    }
   ],
   "source": [
    "#lets start with addition\n",
    "print(X + Y)\n",
    "\n",
    "#and then check with substraction\n",
    "print(X - Y)"
   ]
  },
  {
   "cell_type": "markdown",
   "metadata": {},
   "source": [
    "The error in the last line tells us that we cannot do substraction between X and Y as both are stored as str - strings. Basically arithmatic operations do not work on string. '+' worked because it is the short form for concatenating two text variables. Other ways we can do that are"
   ]
  },
  {
   "cell_type": "code",
   "execution_count": 28,
   "metadata": {},
   "outputs": [
    {
     "name": "stdout",
     "output_type": "stream",
     "text": [
      "Wasim Akram\n"
     ]
    }
   ],
   "source": [
    "#concatenating X and Y\n",
    "print(X,Y)"
   ]
  },
  {
   "cell_type": "markdown",
   "metadata": {},
   "source": [
    "You notice that python has auto put in a space between the two texts. For this example, this was very useful. But not always. Someties, we might need to join texts together  without space, where we can use the '+' sign, or we can try this:"
   ]
  },
  {
   "cell_type": "code",
   "execution_count": 30,
   "metadata": {},
   "outputs": [
    {
     "name": "stdout",
     "output_type": "stream",
     "text": [
      "WasimAkram\n"
     ]
    }
   ],
   "source": [
    "#concatenating X and Y without space\n",
    "print(X, Y, sep = '')"
   ]
  },
  {
   "cell_type": "markdown",
   "metadata": {},
   "source": [
    "This is a good example of the use of parameters. Parameters are arguements in a function. the print() function has few parameters. If you want to know more about these parameters, you can run the help() code on print function, or go back to the code line earlier in the notebook, and run the code, and see the help documentation on print.\n",
    "\n",
    "The separator parameter of the print() function is very helpful in that it allows multiple options of concatenatic text. Lets see one more example:"
   ]
  },
  {
   "cell_type": "code",
   "execution_count": 32,
   "metadata": {},
   "outputs": [
    {
     "name": "stdout",
     "output_type": "stream",
     "text": [
      "Akram; Wasim\n"
     ]
    }
   ],
   "source": [
    "#concatenating using a ;\n",
    "print(Y, X, sep = '; ')"
   ]
  },
  {
   "cell_type": "markdown",
   "metadata": {},
   "source": [
    "How are the strings stored in Python? Why not find out"
   ]
  },
  {
   "cell_type": "code",
   "execution_count": 33,
   "metadata": {},
   "outputs": [
    {
     "name": "stdout",
     "output_type": "stream",
     "text": [
      "Variable   Type    Data/Info\n",
      "----------------------------\n",
      "A          int     10\n",
      "B          int     30\n",
      "C          int     3\n",
      "X          str     Wasim\n",
      "Y          str     Akram\n"
     ]
    }
   ],
   "source": [
    "%whos"
   ]
  },
  {
   "cell_type": "markdown",
   "metadata": {},
   "source": [
    "We are almost reaching the end of our intro session. Besides string and numeric variables, there is another way information is stored in Python - the Boolean. Boolean data type has two values - TRUE or FALSE. They are normally the result of conditional statements such as is A > B? Or say, which days in a week we had temperatures higher than 36 degrees. We will look into conditional statemenst in the next weeks lesson, but for now, let us look into boolean variables. For now let us start by creating three variables in boolean"
   ]
  },
  {
   "cell_type": "code",
   "execution_count": 34,
   "metadata": {},
   "outputs": [
    {
     "name": "stdout",
     "output_type": "stream",
     "text": [
      "True True False\n"
     ]
    }
   ],
   "source": [
    "# boolean variables having the value true\n",
    "healthy_food = True\n",
    "exercise = True\n",
    "\n",
    "#boolean values having the value false\n",
    "sugar = False\n",
    "\n",
    "print(healthy_food, exercise, sugar)"
   ]
  },
  {
   "cell_type": "markdown",
   "metadata": {},
   "source": [
    "From just the look of it, boolean values look very similar to text, but notice that we are not putting any \"\" around the True or False, as these are not strings. A quick calculation using booleans will show how they are different from strings"
   ]
  },
  {
   "cell_type": "code",
   "execution_count": 37,
   "metadata": {},
   "outputs": [
    {
     "name": "stdout",
     "output_type": "stream",
     "text": [
      "2\n",
      "2\n"
     ]
    }
   ],
   "source": [
    "#what is the total of healthy_food and exercise?\n",
    "print(healthy_food + exercise)\n",
    "\n",
    "#what is the total of healthy_food, exercise and sugar\n",
    "print(healthy_food + exercise + sugar)"
   ]
  },
  {
   "cell_type": "markdown",
   "metadata": {},
   "source": [
    "So whats happening here??? Technically, a boolean number is stored both a boolean and numeric. That is, you can do numeric calculations with booleans. True means - 1, False means - 0. This comes in super handy when we are working with conditional statements such as - In a month, how many days did the profit go below 0 (there was a loss) in a store? The way to answer that is to compare every day sales in a month with 0, and get true for those which were less than zero and false for which were more than 0. Then adding these Trues and Falses will give us - the total number of days where the store was making a loss. If this is too much for you to grasp now, then dont panic, we will show one situation by example in the next week"
   ]
  },
  {
   "cell_type": "markdown",
   "metadata": {},
   "source": [
    "One last thing we will focus on todays lesson is type conversion. If we want we can convert a numeric value to string or to boolean, given certain conditions. Lets see the following codes"
   ]
  },
  {
   "cell_type": "code",
   "execution_count": 39,
   "metadata": {},
   "outputs": [
    {
     "name": "stdout",
     "output_type": "stream",
     "text": [
      "55\n",
      "Variable                  Type    Data/Info\n",
      "-------------------------------------------\n",
      "A                         int     10\n",
      "B                         int     30\n",
      "C                         int     3\n",
      "X                         str     Wasim\n",
      "Y                         str     Akram\n",
      "exercise                  bool    True\n",
      "healthy_food              bool    True\n",
      "numeric_variable          int     55\n",
      "string_numeric_variable   str     55\n",
      "sugar                     bool    False\n"
     ]
    }
   ],
   "source": [
    "#Converting numeric to string\n",
    "numeric_variable = 55\n",
    "string_numeric_variable = str(numeric_variable)\n",
    "print(string_numeric_variable)\n",
    "%whos"
   ]
  },
  {
   "cell_type": "code",
   "execution_count": 41,
   "metadata": {},
   "outputs": [
    {
     "name": "stdout",
     "output_type": "stream",
     "text": [
      "Variable                      Type    Data/Info\n",
      "-----------------------------------------------\n",
      "A                             int     10\n",
      "B                             int     30\n",
      "C                             int     3\n",
      "X                             str     Wasim\n",
      "Y                             str     Akram\n",
      "exercise                      bool    True\n",
      "healthy_food                  bool    True\n",
      "numeric_variable              int     55\n",
      "string_converted_to_numeric   int     55\n",
      "string_numeric_variable       str     55\n",
      "sugar                         bool    False\n"
     ]
    }
   ],
   "source": [
    "#converting string to numeric\n",
    "string_converted_to_numeric = int(string_numeric_variable)\n",
    "%whos"
   ]
  },
  {
   "cell_type": "code",
   "execution_count": 42,
   "metadata": {},
   "outputs": [
    {
     "ename": "ValueError",
     "evalue": "invalid literal for int() with base 10: 'hello'",
     "output_type": "error",
     "traceback": [
      "\u001b[0;31m---------------------------------------------------------------------------\u001b[0m",
      "\u001b[0;31mValueError\u001b[0m                                Traceback (most recent call last)",
      "\u001b[0;32m<ipython-input-42-87f2ec88884b>\u001b[0m in \u001b[0;36m<module>\u001b[0;34m\u001b[0m\n\u001b[1;32m      1\u001b[0m \u001b[0;31m#but what happens when we try to convert a text string to numeric\u001b[0m\u001b[0;34m\u001b[0m\u001b[0;34m\u001b[0m\u001b[0;34m\u001b[0m\u001b[0m\n\u001b[1;32m      2\u001b[0m \u001b[0mstring_variable\u001b[0m \u001b[0;34m=\u001b[0m \u001b[0;34m\"hello\"\u001b[0m\u001b[0;34m\u001b[0m\u001b[0;34m\u001b[0m\u001b[0m\n\u001b[0;32m----> 3\u001b[0;31m \u001b[0mint\u001b[0m\u001b[0;34m(\u001b[0m\u001b[0mstring_variable\u001b[0m\u001b[0;34m)\u001b[0m\u001b[0;34m\u001b[0m\u001b[0;34m\u001b[0m\u001b[0m\n\u001b[0m",
      "\u001b[0;31mValueError\u001b[0m: invalid literal for int() with base 10: 'hello'"
     ]
    }
   ],
   "source": [
    "#but what happens when we try to convert a text string to numeric\n",
    "string_variable = \"hello\"\n",
    "int(string_variable)"
   ]
  },
  {
   "cell_type": "code",
   "execution_count": 43,
   "metadata": {
    "scrolled": true
   },
   "outputs": [
    {
     "name": "stdout",
     "output_type": "stream",
     "text": [
      "Variable                      Type    Data/Info\n",
      "-----------------------------------------------\n",
      "A                             int     10\n",
      "B                             int     30\n",
      "C                             int     3\n",
      "X                             str     Wasim\n",
      "Y                             str     Akram\n",
      "boolean_to_numeric_false      int     0\n",
      "boolean_to_numeric_true       int     1\n",
      "boolean_variable_false        bool    False\n",
      "boolean_variable_true         bool    True\n",
      "exercise                      bool    True\n",
      "healthy_food                  bool    True\n",
      "numeric_variable              int     55\n",
      "string_converted_to_numeric   int     55\n",
      "string_numeric_variable       str     55\n",
      "string_variable               str     hello\n",
      "sugar                         bool    False\n"
     ]
    }
   ],
   "source": [
    "#converting boolean to numeric\n",
    "boolean_variable_true = True\n",
    "boolean_variable_false = False\n",
    "\n",
    "boolean_to_numeric_true = int(boolean_variable_true)\n",
    "boolean_to_numeric_false = int(boolean_variable_false)\n",
    "\n",
    "%whos"
   ]
  },
  {
   "cell_type": "markdown",
   "metadata": {},
   "source": [
    "This also explains why we can quickly do arithmatic ops using booleans!"
   ]
  },
  {
   "cell_type": "markdown",
   "metadata": {},
   "source": [
    "# Programming Essentials in Python - Arguements, Lists and Loops"
   ]
  },
  {
   "cell_type": "markdown",
   "metadata": {},
   "source": [
    "## Lists"
   ]
  },
  {
   "cell_type": "markdown",
   "metadata": {},
   "source": [
    "In the last session we looked into singular variables, and we assigned numeric, string and boolean values to the variables, and then did some basic calculations. But normally in analytics and machine learning, we do not work with single values, but multiple values stored in an object. For example, we will be storing a years worth of daily sales in a variable, and then work with it. For storing multiple values in a variable, we use lists in Python. The syntax to create lists are as follows:"
   ]
  },
  {
   "cell_type": "code",
   "execution_count": 1,
   "metadata": {},
   "outputs": [
    {
     "name": "stdout",
     "output_type": "stream",
     "text": [
      "Variable   Type    Data/Info\n",
      "----------------------------\n",
      "sales_w1   list    n=7\n",
      "sales_w2   list    n=7\n"
     ]
    }
   ],
   "source": [
    "# Suppose we look at daily sales over two weeks for a store\n",
    "\n",
    "sales_w1 = [2500, 3000, 2750, 3100, 2600, 2860, 2650]\n",
    "sales_w2 = [3000, 3200, 2800, 2900, 3150, 2950, 3000]\n",
    "\n",
    "# Lets look at how they are stored in the python environment\n",
    "%whos"
   ]
  },
  {
   "cell_type": "markdown",
   "metadata": {},
   "source": [
    "As you can see, the variables are stored differently, and it gives an idea of how many things are stored in each of the variables"
   ]
  },
  {
   "cell_type": "code",
   "execution_count": 2,
   "metadata": {},
   "outputs": [
    {
     "name": "stdout",
     "output_type": "stream",
     "text": [
      "<class 'list'>\n",
      "7\n"
     ]
    }
   ],
   "source": [
    "# To understand the nature of the variable stored, we can use the following function\n",
    "print(type(sales_w1))\n",
    "\n",
    "# To get an idea of how many contents are there in a list\n",
    "print(len(sales_w1))"
   ]
  },
  {
   "cell_type": "markdown",
   "metadata": {},
   "source": [
    "One very important concept in coding is indexing. This gives us an idea of where in a list a specific value is situated. The following code cell gives us an idae of indexing in Python"
   ]
  },
  {
   "cell_type": "code",
   "execution_count": 3,
   "metadata": {},
   "outputs": [
    {
     "name": "stdout",
     "output_type": "stream",
     "text": [
      "3000\n",
      "2500\n"
     ]
    }
   ],
   "source": [
    "# Getting the sales of the first day\n",
    "print(sales_w1[1])\n",
    "\n",
    "# But this is not the first entry. Actually the first entry comes after we give the following code\n",
    "print(sales_w1[0])"
   ]
  },
  {
   "cell_type": "markdown",
   "metadata": {},
   "source": [
    "Whats happening here? So python has a 0 indexing system, This means that the first entry into a list (can be a row or column data) will have the 0 position, then the second entry will have the 1 position and so on. So if there is a list of 100 (say the data of 100 days of sales), then the 100th entry will have the position 99. Lets see some more example"
   ]
  },
  {
   "cell_type": "code",
   "execution_count": 4,
   "metadata": {},
   "outputs": [
    {
     "name": "stdout",
     "output_type": "stream",
     "text": [
      "3200\n",
      "2750\n",
      "3000\n",
      "2650\n"
     ]
    }
   ],
   "source": [
    "# Second day of week 2 sales\n",
    "print(sales_w2[1])\n",
    "\n",
    "# Third day of week 1 sales\n",
    "print(sales_w1[2])\n",
    "\n",
    "# First day week 2 sales\n",
    "print(sales_w2[0])\n",
    "\n",
    "# Last day of week 1 sales\n",
    "print(sales_w1[6])"
   ]
  },
  {
   "cell_type": "markdown",
   "metadata": {},
   "source": [
    "An interesting thing about coding is that you can automate everything as much as possible. In the previous examples we are calling the first day or the last day by giving the exact numbers. But what if we want to create a code that gives us the last entry of a list without giving the exact position of the list, we can try out the following code"
   ]
  },
  {
   "cell_type": "code",
   "execution_count": 5,
   "metadata": {},
   "outputs": [
    {
     "name": "stdout",
     "output_type": "stream",
     "text": [
      "3000\n"
     ]
    }
   ],
   "source": [
    "# The sales of the last day of the week 2 will be\n",
    "print(sales_w2[len(sales_w2) - 1])"
   ]
  },
  {
   "cell_type": "markdown",
   "metadata": {},
   "source": [
    "Lets take some time to understand what happened here. The len(sales_w2) gives me the output of 7. 7 - 1 is 6. So technically we are running the code print(sales_w2[6]) here - similar to manually entering the number. But in this way, I dont need to know the full detail of how long the list will be. In fact, if the sales_w2 list changes to 10 numbers, the code will output 10th number. If it becomes 15 number list, it will enter the 14th number"
   ]
  },
  {
   "cell_type": "markdown",
   "metadata": {},
   "source": [
    "In coding we can do a single thing in multiple ways. What we have done in the above line of code, we can achieve is a shorted way in the following"
   ]
  },
  {
   "cell_type": "code",
   "execution_count": 6,
   "metadata": {},
   "outputs": [
    {
     "name": "stdout",
     "output_type": "stream",
     "text": [
      "2650\n",
      "2950\n"
     ]
    }
   ],
   "source": [
    "# The last days sales of week 1\n",
    "print(sales_w1[-1])\n",
    "\n",
    "# The second to last days sales of week 2\n",
    "print(sales_w2[-2])"
   ]
  },
  {
   "cell_type": "markdown",
   "metadata": {},
   "source": [
    "The importance here is not know that there are many ways you can logic out your codes, and there is no single best method"
   ]
  },
  {
   "cell_type": "markdown",
   "metadata": {},
   "source": [
    "So far we have only looked at numeric lists. But what happens when we have non numeric lists. Lets look at a list of planets"
   ]
  },
  {
   "cell_type": "code",
   "execution_count": 7,
   "metadata": {},
   "outputs": [
    {
     "name": "stdout",
     "output_type": "stream",
     "text": [
      "Variable   Type    Data/Info\n",
      "----------------------------\n",
      "planets    list    n=8\n",
      "sales_w1   list    n=7\n",
      "sales_w2   list    n=7\n"
     ]
    }
   ],
   "source": [
    "planets = [\"Mercury\", \"Venus\", \"Earth\", \"Mars\", \"Jupiter\", \"Saturn\", \"Uranus\", \"Neptune\"]\n",
    "\n",
    "# to check how they are stored\n",
    "%whos"
   ]
  },
  {
   "cell_type": "code",
   "execution_count": 8,
   "metadata": {},
   "outputs": [
    {
     "name": "stdout",
     "output_type": "stream",
     "text": [
      "Mercury\n",
      "Earth\n",
      "Uranus\n"
     ]
    }
   ],
   "source": [
    "# First Planet\n",
    "print(planets[0])\n",
    "\n",
    "# Third Planet\n",
    "print(planets[2])\n",
    "\n",
    "# Second to Last Planet\n",
    "print(planets[-2])"
   ]
  },
  {
   "cell_type": "markdown",
   "metadata": {},
   "source": [
    "So we can see that planets work the same way as numbers in the list. There are some different between numeric and non_numeric lists, and some of them you will see soon in this lesson"
   ]
  },
  {
   "cell_type": "markdown",
   "metadata": {},
   "source": [
    "## Slicing Lists"
   ]
  },
  {
   "cell_type": "markdown",
   "metadata": {},
   "source": [
    "Slicing is the method in which instead of getting one item of the list, we get a group of items. Lets look at some examples below:"
   ]
  },
  {
   "cell_type": "code",
   "execution_count": 9,
   "metadata": {},
   "outputs": [
    {
     "name": "stdout",
     "output_type": "stream",
     "text": [
      "[2500, 3000, 2750]\n",
      "[2900, 3150, 2950, 3000]\n",
      "['Earth', 'Mars', 'Jupiter', 'Saturn']\n",
      "['Venus', 'Earth', 'Mars', 'Jupiter', 'Saturn', 'Uranus']\n",
      "['Saturn', 'Uranus', 'Neptune']\n"
     ]
    }
   ],
   "source": [
    "#First 3 days sales in week 1\n",
    "print(sales_w1[:3])\n",
    "\n",
    "# Sales from the 4th to the last day of week 2\n",
    "print(sales_w2[3:])\n",
    "\n",
    "# 3rd planet to 6th planet\n",
    "print(planets[2:6])\n",
    "\n",
    "# All planets except the first and last\n",
    "print(planets[1:-1])\n",
    "\n",
    "# Last 3 planets\n",
    "print(planets[-3:])"
   ]
  },
  {
   "cell_type": "markdown",
   "metadata": {},
   "source": [
    "One very important thing to note here is that for cases when we are starting from one position of the list and ending on another position, we start with the position index of the starting point, and end after the position index of the ending point. An example will make it easier. For 3rd to 6th planet, we used the code planets[2:6]. Started with 2, because that is the position index of the third planet. But notice that we ended at 6, the position index of the 7th planet, but its not diplayed. In programming language of python planets[2:6] means give me planets from position 3 and before position 6. Another example can be the first 3 days sale of week 1 - sales_w1[0:3]"
   ]
  },
  {
   "cell_type": "markdown",
   "metadata": {},
   "source": [
    "Suppose I want to change the name of the 4th entry of the list"
   ]
  },
  {
   "cell_type": "code",
   "execution_count": 10,
   "metadata": {},
   "outputs": [
    {
     "data": {
      "text/plain": [
       "['Mercury',\n",
       " 'Venus',\n",
       " 'Earth',\n",
       " 'Malacandra',\n",
       " 'Jupiter',\n",
       " 'Saturn',\n",
       " 'Uranus',\n",
       " 'Neptune']"
      ]
     },
     "execution_count": 10,
     "metadata": {},
     "output_type": "execute_result"
    }
   ],
   "source": [
    "planets[3] = \"Malacandra\"\n",
    "\n",
    "#looking at planets again\n",
    "planets"
   ]
  },
  {
   "cell_type": "code",
   "execution_count": 11,
   "metadata": {},
   "outputs": [
    {
     "data": {
      "text/plain": [
       "['Mer', 'Ven', 'Ear', 'Malacandra', 'Jupiter', 'Saturn', 'Uranus', 'Neptune']"
      ]
     },
     "execution_count": 11,
     "metadata": {},
     "output_type": "execute_result"
    }
   ],
   "source": [
    "#what is I want to change the name of first 3 planets\n",
    "planets[0:3] = ['Mer', 'Ven', 'Ear']\n",
    "\n",
    "#checking the planets list again\n",
    "planets"
   ]
  },
  {
   "cell_type": "code",
   "execution_count": 12,
   "metadata": {},
   "outputs": [
    {
     "data": {
      "text/plain": [
       "['Mercury', 'Venus', 'Earth', 'Mars', 'Jupiter', 'Saturn', 'Uranus', 'Neptune']"
      ]
     },
     "execution_count": 12,
     "metadata": {},
     "output_type": "execute_result"
    }
   ],
   "source": [
    "#but now let us fix this list and get back to normal\n",
    "planets[0:4] = ['Mercury', 'Venus', 'Earth', 'Mars']\n",
    "\n",
    "#checking if we are getting the correct planets\n",
    "planets"
   ]
  },
  {
   "cell_type": "markdown",
   "metadata": {},
   "source": [
    "Do note that in python when you overwrite or change a value in the list, there is no going back, no undo button! So be careful!!! If you are changing values in a list, and you think you will also need the original values, then you better create a duplicate"
   ]
  },
  {
   "cell_type": "code",
   "execution_count": 13,
   "metadata": {},
   "outputs": [
    {
     "name": "stdout",
     "output_type": "stream",
     "text": [
      "Variable    Type    Data/Info\n",
      "-----------------------------\n",
      "planets     list    n=8\n",
      "planets_2   list    n=8\n",
      "sales_w1    list    n=7\n",
      "sales_w2    list    n=7\n"
     ]
    }
   ],
   "source": [
    "# Duplicating the planets list\n",
    "planets_2 = planets\n",
    "\n",
    "# Checking if the planets 2 look the same way as planets\n",
    "planets_2\n",
    "\n",
    "# Checking if both of the planet lists are stored in the system\n",
    "%whos"
   ]
  },
  {
   "cell_type": "markdown",
   "metadata": {},
   "source": [
    "## List Functions"
   ]
  },
  {
   "cell_type": "markdown",
   "metadata": {},
   "source": [
    "In python we will be using many functions to get our data analysis job done. And most of the functions work on lists. So lets look at few functions. Worry not, these are just basic list functions to get you familiarised with coding. We will learn more of the functions over time related to statistics and machine learning"
   ]
  },
  {
   "cell_type": "markdown",
   "metadata": {},
   "source": [
    "Some example functions"
   ]
  },
  {
   "cell_type": "code",
   "execution_count": 14,
   "metadata": {},
   "outputs": [
    {
     "name": "stdout",
     "output_type": "stream",
     "text": [
      "19460\n",
      "21000\n",
      "3100\n",
      "2800\n",
      "['Earth', 'Jupiter', 'Mars', 'Mercury', 'Neptune', 'Saturn', 'Uranus', 'Venus']\n",
      "['Venus', 'Uranus', 'Saturn', 'Neptune', 'Mercury', 'Mars', 'Jupiter', 'Earth']\n"
     ]
    }
   ],
   "source": [
    "# total\n",
    "print(sum(sales_w1))\n",
    "print(sum(sales_w2))\n",
    "\n",
    "# max sales of week 1\n",
    "print(max(sales_w1))\n",
    "\n",
    "# min sales of week 2\n",
    "print(min(sales_w2))\n",
    "\n",
    "# sorting planets albhabetically\n",
    "print(sorted(planets))\n",
    "\n",
    "# sorting planets_2 reverse alphabetically\n",
    "print(sorted(planets, reverse=True))"
   ]
  },
  {
   "cell_type": "markdown",
   "metadata": {},
   "source": [
    "## List Methods"
   ]
  },
  {
   "cell_type": "markdown",
   "metadata": {},
   "source": [
    "One of the reasons List are used a lot in python is because of their 'methods' - special things that you can do with lists in Python."
   ]
  },
  {
   "cell_type": "markdown",
   "metadata": {},
   "source": [
    "Suppose you want to add another planet to our planets list, without wanting to know what is the total length. This can be easily arranged:"
   ]
  },
  {
   "cell_type": "code",
   "execution_count": 15,
   "metadata": {},
   "outputs": [
    {
     "data": {
      "text/plain": [
       "['Mercury',\n",
       " 'Venus',\n",
       " 'Earth',\n",
       " 'Mars',\n",
       " 'Jupiter',\n",
       " 'Saturn',\n",
       " 'Uranus',\n",
       " 'Neptune',\n",
       " 'Pluto']"
      ]
     },
     "execution_count": 15,
     "metadata": {},
     "output_type": "execute_result"
    }
   ],
   "source": [
    "# Adding Pluto to the planets list\n",
    "planets.append(\"Pluto\")\n",
    "\n",
    "# So now planets list looks like\n",
    "planets"
   ]
  },
  {
   "cell_type": "markdown",
   "metadata": {},
   "source": [
    "What if we want to remove pluto"
   ]
  },
  {
   "cell_type": "code",
   "execution_count": 16,
   "metadata": {},
   "outputs": [
    {
     "data": {
      "text/plain": [
       "['Mercury', 'Venus', 'Earth', 'Mars', 'Jupiter', 'Saturn', 'Uranus', 'Neptune']"
      ]
     },
     "execution_count": 16,
     "metadata": {},
     "output_type": "execute_result"
    }
   ],
   "source": [
    "planets.pop()\n",
    "\n",
    "# To see what happened\n",
    "planets"
   ]
  },
  {
   "cell_type": "markdown",
   "metadata": {},
   "source": [
    "We can also check if a certain planet is on the list"
   ]
  },
  {
   "cell_type": "code",
   "execution_count": 17,
   "metadata": {},
   "outputs": [
    {
     "data": {
      "text/plain": [
       "True"
      ]
     },
     "execution_count": 17,
     "metadata": {},
     "output_type": "execute_result"
    }
   ],
   "source": [
    "# Checking if Earth is on the list\n",
    "\"Earth\" in planets"
   ]
  },
  {
   "cell_type": "code",
   "execution_count": 18,
   "metadata": {},
   "outputs": [
    {
     "data": {
      "text/plain": [
       "False"
      ]
     },
     "execution_count": 18,
     "metadata": {},
     "output_type": "execute_result"
    }
   ],
   "source": [
    "# Cheking if Pluto is on the list\n",
    "\"Pluto\" in planets"
   ]
  },
  {
   "cell_type": "markdown",
   "metadata": {},
   "source": [
    "This summarizes our introduction to Lists. We will now look take a detour to understand how booleans in a list can help us get some very interesting insights, using conditional statements"
   ]
  },
  {
   "cell_type": "markdown",
   "metadata": {},
   "source": [
    "## Conditionals and Loops"
   ]
  },
  {
   "cell_type": "markdown",
   "metadata": {},
   "source": [
    "In Python, conditionals mean comparsions and checking for conditions. When we are trying to answer whether the value of a variable is equal to 7, or whether the daily sale is greater than 3000, we are using conditionals. First lets check some easy comparisons here"
   ]
  },
  {
   "cell_type": "code",
   "execution_count": 19,
   "metadata": {},
   "outputs": [
    {
     "name": "stdout",
     "output_type": "stream",
     "text": [
      "True\n",
      "False\n",
      "True\n",
      "True\n",
      "False\n"
     ]
    }
   ],
   "source": [
    "# Lets create some simple variables\n",
    "A = 10\n",
    "B = 13\n",
    "\n",
    "# Now lets start asking comparison questions. Starting with, is A > 5\n",
    "print(A > 5)\n",
    "\n",
    "# Next, is B < 10?\n",
    "print(B < 10)\n",
    "\n",
    "# Next, is A equals 10?\n",
    "print(A == 10)\n",
    "\n",
    "# Next, is B greater than or equal to 12?\n",
    "print(B >= 12)\n",
    "\n",
    "#Next, is A not equal to 10?\n",
    "print(A != 10)"
   ]
  },
  {
   "cell_type": "markdown",
   "metadata": {},
   "source": [
    "As we can see, the statements are very simple, and the outcomes we get are in Boolean, True or False"
   ]
  },
  {
   "cell_type": "markdown",
   "metadata": {},
   "source": [
    "But as again, individual variables are not fun to work with. We can do much more with lists. But for that to happen we will need to learn one last part of the puzzle, loops. Loops are one of the most powerful programming concepts. It allows you to do a repeated task really fast and without much coding. Lets look at an examples, to see how loops work"
   ]
  },
  {
   "cell_type": "code",
   "execution_count": 23,
   "metadata": {},
   "outputs": [
    {
     "name": "stdout",
     "output_type": "stream",
     "text": [
      "[2750.0]\n",
      "[2750.0, 3300.0000000000005]\n"
     ]
    }
   ],
   "source": [
    "# Suppose we want to create a new variable from sales of week 1, where each variable we will add 10% more sales.\n",
    "# Lets call our new variable - inflated_sales\n",
    "\n",
    "# The long way to do this starts with creating the new variable as an empty list\n",
    "inflated_sales = []\n",
    "\n",
    "# Next for sales of day 1 week 1\n",
    "inflated_sales.append(sales_w1[0] * 1.1)\n",
    "print(inflated_sales)\n",
    "\n",
    "# Then for day 2 week 1\n",
    "inflated_sales.append(sales_w1[1] * 1.1)\n",
    "print(inflated_sales)\n",
    "\n",
    "# And so on ...."
   ]
  },
  {
   "cell_type": "code",
   "execution_count": 24,
   "metadata": {},
   "outputs": [
    {
     "name": "stdout",
     "output_type": "stream",
     "text": [
      "[2750.0, 3300.0000000000005, 3025.0000000000005, 3410.0000000000005, 2860.0000000000005, 3146.0000000000005, 2915.0000000000005]\n"
     ]
    }
   ],
   "source": [
    "# When using loops, we again start with the first step - creating inflated_sales\n",
    "inflated_sales = []\n",
    "\n",
    "# Next, we write our loop\n",
    "for sales in sales_w1:\n",
    "    inflated_sales.append(sales * 1.1)\n",
    "\n",
    "print(inflated_sales)"
   ]
  },
  {
   "cell_type": "markdown",
   "metadata": {},
   "source": [
    "Now lets try to understand what is happening. The loop, also known as for loop, starts with a 'for'. The next parts - 'for sales in sales_w1:' , this part basically tells python to take the sales_w1 list, and take one item at a time from the sales_w1, and store it in the variable sales, which is a temporary variable created for this situation. So first value sales has is the first value in sales_w1 list. The way loop is being run is that, it starts with the first value of sales_w1, and stores it as sales, then executes the next line of the command - 'inflated_sales.append(sales * 1.1)'. This command tells python to take the sales value (which is now the first value of sales_w1) and then multiply by 1.1, and then store in as a value in the list 'inflated_sales'. Then we go back to the for loop again, and this time, after taking the first value from salews_w1, python will take the second value, then store it in sales, and then add 'sales * 1.1' as another value in the 'inflated_sales' and so on!"
   ]
  },
  {
   "cell_type": "markdown",
   "metadata": {},
   "source": [
    "Lets try our hand at something more complicated. Lets answer three questions:\n",
    "1. Which days in week 2 were sales higher than 3000\n",
    "2. What are the total number of days sales is higher than 3000\n",
    "3. What percentage of days were sales higher than 3000"
   ]
  },
  {
   "cell_type": "code",
   "execution_count": 28,
   "metadata": {},
   "outputs": [
    {
     "name": "stdout",
     "output_type": "stream",
     "text": [
      "[False, True, False, False, True, False, False]\n",
      "2\n",
      "0.2857142857142857\n"
     ]
    }
   ],
   "source": [
    "# First lets have a loop checking for each value of sales_w2, and whether they are greater than 3000\n",
    "\n",
    "days_sales_greater_than_3k = []\n",
    "\n",
    "for daily_sales in sales_w2:\n",
    "    days_sales_greater_than_3k.append(daily_sales > 3000)\n",
    "    \n",
    "print(days_sales_greater_than_3k)\n",
    "\n",
    "# Next is how many days in total were the sales greater than 3000 in week 2. Here remember that a True is 1, and means\n",
    "# sales is greater than 3000. False is 0. So a sum function will do\n",
    "\n",
    "print(sum(days_sales_greater_than_3k))\n",
    "\n",
    "# Finally we check the percentage based on the same logic. The sum will give us total of all the 1s. The len() function\n",
    "# will give us the total number of numebers in the list. So diving the sum by the len gives us the percentage\n",
    "\n",
    "print(sum(days_sales_greater_than_3k)/len(days_sales_greater_than_3k))"
   ]
  },
  {
   "cell_type": "markdown",
   "metadata": {},
   "source": [
    "Now we see the codes of the nature we will be using in our data analytics sections, and now we are answering complex questions. How about we try and answer the next question:\n",
    "\n",
    "What proportion of days the sales of week 2 were higher than the sales of week 1? Which were these days?\n",
    "\n",
    "To answer this question, we will learn another method to work with for loop, using number indexes:"
   ]
  },
  {
   "cell_type": "code",
   "execution_count": 32,
   "metadata": {},
   "outputs": [
    {
     "name": "stdout",
     "output_type": "stream",
     "text": [
      "[True, True, True, False, True, True, True]\n",
      "0.8571428571428571\n"
     ]
    }
   ],
   "source": [
    "# The for loop first\n",
    "\n",
    "sales_comparison = []\n",
    "\n",
    "for i in range(7):\n",
    "    sales_comparison.append(sales_w2[i] > sales_w1[i])\n",
    "    \n",
    "# The days when sales of week 2 were higher than the sales of week 1\n",
    "print(sales_comparison)\n",
    "\n",
    "# The percentage of days when the sales of week 2 were higher than sales of week 1\n",
    "print(sum(sales_comparison)/len(sales_comparison))"
   ]
  },
  {
   "cell_type": "markdown",
   "metadata": {},
   "source": [
    "85% of the days the sales of week 2 were greter than sales of week 1. Lets look at the for loop again. Here we are using something called a loop counter. 'i' is the loop counter. so the code 'for i in range(7)' means, first, in the loop, i will take the value of 0. Then the next line of code is - we take the sales_w2[0] value, and then sales_w1[0], and then check if sales_w2[0] is greater than sales_21[0]. The result is either True or False. And then, after the first loop is run, i will be 1. Then we will compare sales_w2[1] with sales_w1[1]. Then we will do the same for i = 2 to i = 6. We will stop the loop at i = 6. Many lines of code compressed in 2 lines!"
   ]
  },
  {
   "cell_type": "code",
   "execution_count": 33,
   "metadata": {},
   "outputs": [
    {
     "name": "stdout",
     "output_type": "stream",
     "text": [
      "[5500, 6200, 5550, 6000, 5750, 5810, 5650]\n"
     ]
    }
   ],
   "source": [
    "# one last example - gettig the total sales for each day for both week 1 and week 2\n",
    "\n",
    "total_daily_sales = []\n",
    "\n",
    "for i in range(7):\n",
    "    total_daily_sales.append(sales_w1[i] + sales_w2[i])\n",
    "    \n",
    "print(total_daily_sales)"
   ]
  },
  {
   "cell_type": "markdown",
   "metadata": {},
   "source": [
    "Finally we look at one last feature of conditionals - If Them Else! Lets say we have a list of numbers from 0 to 99, and we want to divide them into three groups, 0-31 as low, 31-62 as medium and the rest as high. To do this, we will use the if then else statements"
   ]
  },
  {
   "cell_type": "code",
   "execution_count": 39,
   "metadata": {},
   "outputs": [
    {
     "name": "stdout",
     "output_type": "stream",
     "text": [
      "[0, 1, 2, 3, 4, 5, 6, 7, 8, 9, 10, 11, 12, 13, 14, 15, 16, 17, 18, 19, 20, 21, 22, 23, 24, 25, 26, 27, 28, 29, 30, 31, 32, 33, 34, 35, 36, 37, 38, 39, 40, 41, 42, 43, 44, 45, 46, 47, 48, 49, 50, 51, 52, 53, 54, 55, 56, 57, 58, 59, 60, 61, 62, 63, 64, 65, 66, 67, 68, 69, 70, 71, 72, 73, 74, 75, 76, 77, 78, 79, 80, 81, 82, 83, 84, 85, 86, 87, 88, 89, 90, 91, 92, 93, 94, 95, 96, 97, 98, 99]\n",
      "['low', 'low', 'low', 'low', 'low', 'low', 'low', 'low', 'low', 'low', 'low', 'low', 'low', 'low', 'low', 'low', 'low', 'low', 'low', 'low', 'low', 'low', 'low', 'low', 'low', 'low', 'low', 'low', 'low', 'low', 'low', 'low', 'medium', 'medium', 'medium', 'medium', 'medium', 'medium', 'medium', 'medium', 'medium', 'medium', 'medium', 'medium', 'medium', 'medium', 'medium', 'medium', 'medium', 'medium', 'medium', 'medium', 'medium', 'medium', 'medium', 'medium', 'medium', 'medium', 'medium', 'medium', 'medium', 'medium', 'high', 'high', 'high', 'high', 'high', 'high', 'high', 'high', 'high', 'high', 'high', 'high', 'high', 'high', 'high', 'high', 'high', 'high', 'high', 'high', 'high', 'high', 'high', 'high', 'high', 'high', 'high', 'high', 'high', 'high', 'high', 'high', 'high', 'high', 'high', 'high', 'high', 'high']\n"
     ]
    }
   ],
   "source": [
    "# First we create a list of numbers from 0 to 99\n",
    "numbers = list(range(100))\n",
    "\n",
    "print(numbers)\n",
    "\n",
    "\n",
    "# Now we run a if-then-else code and populate our blank variable - hi_med_low\n",
    "hi_med_low = []\n",
    "\n",
    "for num in numbers:\n",
    "    if num < 32:\n",
    "        hi_med_low.append(\"low\")\n",
    "    elif num >= 32 and num < 62:\n",
    "        hi_med_low.append(\"medium\")\n",
    "    else :\n",
    "        hi_med_low.append(\"high\")\n",
    "        \n",
    "print(hi_med_low)\n",
    "        "
   ]
  },
  {
   "cell_type": "code",
   "execution_count": null,
   "metadata": {},
   "outputs": [],
   "source": []
  }
 ],
 "metadata": {
  "kernelspec": {
   "display_name": "Python 3 (ipykernel)",
   "language": "python",
   "name": "python3"
  },
  "language_info": {
   "codemirror_mode": {
    "name": "ipython",
    "version": 3
   },
   "file_extension": ".py",
   "mimetype": "text/x-python",
   "name": "python",
   "nbconvert_exporter": "python",
   "pygments_lexer": "ipython3",
   "version": "3.11.5"
  }
 },
 "nbformat": 4,
 "nbformat_minor": 4
}
